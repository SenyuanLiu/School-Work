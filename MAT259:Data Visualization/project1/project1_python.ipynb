{
 "cells": [
  {
   "cell_type": "code",
   "execution_count": 85,
   "id": "7f39b505",
   "metadata": {},
   "outputs": [
    {
     "name": "stdout",
     "output_type": "stream",
     "text": [
      "    year  count\n",
      "0   2006   2764\n",
      "1   2007   3172\n",
      "2   2008   3791\n",
      "3   2009   3557\n",
      "4   2010   3130\n",
      "5   2011   2873\n",
      "6   2012   2257\n",
      "7   2013   2540\n",
      "8   2014   2278\n",
      "9   2015   1891\n",
      "10  2016   1886\n",
      "11  2017   1936\n",
      "12  2018   1028\n",
      "13  2019   1489\n",
      "14  2020    472\n",
      "15  2021    949\n",
      "16  2022     42\n"
     ]
    }
   ],
   "source": [
    "import pandas as pd\n",
    "df = pd.read_csv('d5.csv')\n",
    "print(df)"
   ]
  },
  {
   "cell_type": "code",
   "execution_count": 27,
   "id": "510fe3ff",
   "metadata": {},
   "outputs": [
    {
     "name": "stdout",
     "output_type": "stream",
     "text": [
      "car list: [90768, 89433, 117968, 124725, 110395, 104095, 100159, 108926, 100238, 93288, 90368, 80306, 55189, 76721, 19950, 38443, 1764]\n",
      "vehicle list: [558, 520, 666, 693, 587, 538, 596, 663, 787, 1065, 1362, 1255, 850, 1594, 458, 948, 45]\n",
      "automotive list: [321, 319, 413, 502, 461, 385, 314, 312, 259, 211, 211, 216, 159, 190, 53, 75, 3]\n"
     ]
    }
   ],
   "source": [
    "car_list = []\n",
    "for i in range(len(df['car'])):\n",
    "    car_list.append(df['car'][i])\n",
    "vehicle_list = []\n",
    "for i in range(len(df['vehicle'])):\n",
    "    vehicle_list.append(df['vehicle'][i])\n",
    "automotive_list  = []\n",
    "for i in range(len(df['automotive'])):\n",
    "    automotive_list.append(df['automotive'][i])\n",
    "print('car list:',car_list)\n",
    "print('vehicle list:',vehicle_list)\n",
    "print('automotive list:',automotive_list)"
   ]
  },
  {
   "cell_type": "code",
   "execution_count": 71,
   "id": "4da20de9",
   "metadata": {},
   "outputs": [],
   "source": [
    "all_car = [0,0,0,0,0,0,0,0,0,0,0,0,0,0,0,0,0]\n",
    "for i in range(len(car_list)):\n",
    "    all_car[i] = car_list[i]+vehicle_list[i]+automotive_list[i]"
   ]
  },
  {
   "cell_type": "code",
   "execution_count": 49,
   "id": "a7f0e0c5",
   "metadata": {},
   "outputs": [],
   "source": [
    "#dates = ['12/31/2006','12/31/2007','12/31/2008','12/31/2009','12/31/2010','12/31/2011','12/31/2012','12/31/2013','12/31/2014','12/31/2015','12/31/2016','12/31/2017','12/31/2018','12/31/2019','12/31/2020','12/31/2021','12/31/2022']"
   ]
  },
  {
   "cell_type": "code",
   "execution_count": 70,
   "id": "01c78c9f",
   "metadata": {},
   "outputs": [
    {
     "data": {
      "text/plain": [
       "[<matplotlib.lines.Line2D at 0x7fe8f277e430>]"
      ]
     },
     "execution_count": 70,
     "metadata": {},
     "output_type": "execute_result"
    },
    {
     "data": {
      "image/png": "[encoded data removed]",
      "text/plain": [
       "<Figure size 576x396 with 1 Axes>"
      ]
     },
     "metadata": {},
     "output_type": "display_data"
    }
   ],
   "source": [
    "import matplotlib.pyplot as plt\n",
    "from datetime import datetime, timedelta\n",
    "plt.style.use('seaborn')\n",
    "\n",
    "dates = [\n",
    "    datetime(2006, 12, 31),\n",
    "    datetime(2007, 12, 31),\n",
    "    datetime(2008, 12, 31),\n",
    "    datetime(2009, 12, 31),\n",
    "    datetime(2010, 12, 31),\n",
    "    datetime(2011, 12, 31),\n",
    "    datetime(2012, 12, 31),\n",
    "    datetime(2013, 12, 31),\n",
    "    datetime(2014, 12, 31),\n",
    "    datetime(2015, 12, 31),\n",
    "    datetime(2016, 12, 31),\n",
    "    datetime(2017, 12, 31),\n",
    "    datetime(2018, 12, 31),\n",
    "    datetime(2019, 12, 31),\n",
    "    datetime(2020, 12, 31),\n",
    "    datetime(2021, 12, 31),\n",
    "    datetime(2022, 12, 31),\n",
    "]\n",
    "\n",
    "\n",
    "plt.plot_date(dates, all_car)\n",
    "plt.tight_layout()\n",
    "plt.plot_date(dates, all_car, linestyle ='solid')"
   ]
  },
  {
   "cell_type": "code",
   "execution_count": 81,
   "id": "75896b5f",
   "metadata": {},
   "outputs": [
    {
     "name": "stdout",
     "output_type": "stream",
     "text": [
      "           Date   Open   High    Low  Close  Adj Close    Volume\n",
      "0    2015-01-02  15.59  15.65  15.18  15.36  11.183619  24777900\n",
      "1    2015-01-05  15.12  15.13  14.69  14.76  10.746758  44079700\n",
      "2    2015-01-06  14.88  14.90  14.38  14.62  10.644824  32981600\n",
      "3    2015-01-07  14.78  15.09  14.77  15.04  10.950627  26065300\n",
      "4    2015-01-08  15.40  15.48  15.23  15.42  11.227304  33943400\n",
      "..          ...    ...    ...    ...    ...        ...       ...\n",
      "750  2017-12-22  12.66  12.66  12.56  12.58  10.767381  17876200\n",
      "751  2017-12-26  12.57  12.65  12.55  12.60  10.784499  11664600\n",
      "752  2017-12-27  12.57  12.58  12.45  12.50  10.698908  17005600\n",
      "753  2017-12-28  12.48  12.58  12.47  12.58  10.767381  14793500\n",
      "754  2017-12-29  12.58  12.61  12.49  12.49  10.690348  18362500\n",
      "\n",
      "[755 rows x 7 columns]\n"
     ]
    }
   ],
   "source": [
    "import pandas as pd\n",
    "df2 = pd.read_csv('ford.csv')\n",
    "print(df2)"
   ]
  },
  {
   "cell_type": "code",
   "execution_count": 82,
   "id": "620639d1",
   "metadata": {},
   "outputs": [],
   "source": [
    "price = []\n",
    "for i in range(len(df2['Close'])):\n",
    "    price.append(df2['Close'][i])"
   ]
  },
  {
   "cell_type": "code",
   "execution_count": 90,
   "id": "cdaeeac5",
   "metadata": {},
   "outputs": [],
   "source": [
    "result2 = pd.DataFrame(price).mean(axis=1)\n",
    "result2.index = df2[\"Date\"]\n",
    "#result2.plot()"
   ]
  },
  {
   "cell_type": "code",
   "execution_count": 91,
   "id": "a453e37e",
   "metadata": {},
   "outputs": [],
   "source": [
    "import pandas as pd\n",
    "df = pd.read_csv('d5.csv')\n",
    "#print(df)"
   ]
  },
  {
   "cell_type": "code",
   "execution_count": 88,
   "id": "ac529e73",
   "metadata": {},
   "outputs": [],
   "source": [
    "sum_list = []\n",
    "for i in range(len(df['count'])):\n",
    "    sum_list.append(df['count'][i])"
   ]
  },
  {
   "cell_type": "code",
   "execution_count": 92,
   "id": "aa34d295",
   "metadata": {},
   "outputs": [],
   "source": [
    "import matplotlib.pyplot as plt\n",
    "from datetime import datetime, timedelta\n",
    "plt.style.use('seaborn')\n",
    "\n",
    "dates = [\n",
    "    datetime(2006, 12, 31),\n",
    "    datetime(2007, 12, 31),\n",
    "    datetime(2008, 12, 31),\n",
    "    datetime(2009, 12, 31),\n",
    "    datetime(2010, 12, 31),\n",
    "    datetime(2011, 12, 31),\n",
    "    datetime(2012, 12, 31),\n",
    "    datetime(2013, 12, 31),\n",
    "    datetime(2014, 12, 31),\n",
    "    datetime(2015, 12, 31),\n",
    "    datetime(2016, 12, 31),\n",
    "    datetime(2017, 12, 31),\n",
    "    datetime(2018, 12, 31),\n",
    "    datetime(2019, 12, 31),\n",
    "    datetime(2020, 12, 31),\n",
    "    datetime(2021, 12, 31),\n",
    "    datetime(2022, 12, 31),\n",
    "]\n",
    "\n",
    "\n",
    "#plt.plot_date(dates, sum_list)\n",
    "#plt.tight_layout()\n",
    "#plt.plot_date(dates, sum_list, linestyle ='solid')"
   ]
  }
 ],
 "metadata": {
  "kernelspec": {
   "display_name": "Python 3",
   "language": "python",
   "name": "python3"
  },
  "language_info": {
   "codemirror_mode": {
    "name": "ipython",
    "version": 3
   },
   "file_extension": ".py",
   "mimetype": "text/x-python",
   "name": "python",
   "nbconvert_exporter": "python",
   "pygments_lexer": "ipython3",
   "version": "3.8.8"
  }
 },
 "nbformat": 4,
 "nbformat_minor": 5
}
